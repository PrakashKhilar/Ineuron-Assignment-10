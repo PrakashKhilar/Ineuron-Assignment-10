{
 "cells": [
  {
   "cell_type": "markdown",
   "id": "0ec0843e",
   "metadata": {},
   "source": [
    "# Ineuron Assignmnet - 10"
   ]
  },
  {
   "cell_type": "code",
   "execution_count": 1,
   "id": "5a586a6b",
   "metadata": {},
   "outputs": [],
   "source": [
    "# Q1 : How do you distinguish between shutil.copy() and shutil.copytree()?"
   ]
  },
  {
   "cell_type": "code",
   "execution_count": 2,
   "id": "1f064896",
   "metadata": {},
   "outputs": [
    {
     "ename": "SyntaxError",
     "evalue": "invalid syntax (3821033438.py, line 5)",
     "output_type": "error",
     "traceback": [
      "\u001b[1;36m  Input \u001b[1;32mIn [2]\u001b[1;36m\u001b[0m\n\u001b[1;33m    shutil.copytree() will copy an entire folder and every folder and file contained in it.\u001b[0m\n\u001b[1;37m                      ^\u001b[0m\n\u001b[1;31mSyntaxError\u001b[0m\u001b[1;31m:\u001b[0m invalid syntax\n"
     ]
    }
   ],
   "source": [
    "# Ans;\n",
    "\n",
    "# shutil.copy() will copy a single file.\n",
    "\n",
    "shutil.copytree() will copy an entire folder and every folder and file contained in it.\n",
    "Calling shutil.copytree(source, destination) will copy the folder at the path source, along with all of its files and subfolders, to the folder at the path destination. \n",
    "The source and destination parameters are both strings. The function returns a string of the path of the copied folder."
   ]
  },
  {
   "cell_type": "code",
   "execution_count": null,
   "id": "c2824b78",
   "metadata": {},
   "outputs": [],
   "source": [
    "# Q2 : What function is used to rename files??"
   ]
  },
  {
   "cell_type": "code",
   "execution_count": null,
   "id": "c0f6c00a",
   "metadata": {},
   "outputs": [],
   "source": [
    "# Ans:\n",
    "shutil.move will rename files."
   ]
  },
  {
   "cell_type": "code",
   "execution_count": null,
   "id": "4ede39ac",
   "metadata": {},
   "outputs": [],
   "source": [
    "# Q3 : What is the difference between the delete functions in the send2trash and shutil modules."
   ]
  },
  {
   "cell_type": "code",
   "execution_count": null,
   "id": "ed2bd255",
   "metadata": {},
   "outputs": [],
   "source": [
    "# Ans;\n",
    "\n",
    "shutil.rmtree() function irreversibly deletes files and folders.\n",
    "send2trash will send folders and files to computer's trash or recycle bin instead of permanently deleting them."
   ]
  },
  {
   "cell_type": "code",
   "execution_count": null,
   "id": "e60aa95e",
   "metadata": {},
   "outputs": [],
   "source": [
    "# Q4 : ZipFile objects have a close() method just like File objects’ close() method. \n",
    "#      What ZipFile method is equivalent to File objects’ open() method?"
   ]
  },
  {
   "cell_type": "code",
   "execution_count": null,
   "id": "8d4add30",
   "metadata": {},
   "outputs": [],
   "source": [
    "# Ans:\n",
    "\n",
    "# ZipFile method is equivalant to File objects' open() method. For example,\n",
    "import zipfile\n",
    "newZip = zipfile.ZipFile('new.zip', 'w')"
   ]
  },
  {
   "cell_type": "code",
   "execution_count": null,
   "id": "796054d4",
   "metadata": {},
   "outputs": [],
   "source": []
  },
  {
   "cell_type": "code",
   "execution_count": null,
   "id": "8b5aa451",
   "metadata": {},
   "outputs": [],
   "source": [
    "# Q5 : Create a programme that searches a folder tree for files with a certain file extension (such as .pdf or .jpg). \n",
    "#      Copy these files from whatever location they are in to a new folder."
   ]
  },
  {
   "cell_type": "code",
   "execution_count": null,
   "id": "60779eaa",
   "metadata": {},
   "outputs": [],
   "source": [
    "import os, shutil\n",
    "\n",
    "def SelCopy(folder, extensions, destFolder):\n",
    "    folder = os.path.abspath(folder)\n",
    "    destFolder = os.path.abspath(destFolder)\n",
    "    print('Looking in', folder, 'for files with extensions of', ', '.join(extensions))\n",
    "    for foldername, subfolders, filenames in os.walk(folder):\n",
    "        for filename in filenames:\n",
    "            name, extension = os.path.splitext(filename)\n",
    "            if extension in extensions:\n",
    "                fileAbsPath = foldername + os.path.sep + filename\n",
    "                print('Coping', fileAbsPath, 'to', destFolder)\n",
    "                shutil.copy(fileAbsPath, destFolder)\n",
    "\n",
    "extensions = ['.php', '.py']\n",
    "folder = 'randomFolder'\n",
    "destFolder = 'selectiveFolder'\n",
    "SelCopy(folder, extensions, destFolder)"
   ]
  },
  {
   "cell_type": "code",
   "execution_count": null,
   "id": "d168dcd8",
   "metadata": {},
   "outputs": [],
   "source": [
    "import re"
   ]
  },
  {
   "cell_type": "code",
   "execution_count": null,
   "id": "4f62dcc0",
   "metadata": {},
   "outputs": [],
   "source": []
  }
 ],
 "metadata": {
  "kernelspec": {
   "display_name": "Python 3 (ipykernel)",
   "language": "python",
   "name": "python3"
  },
  "language_info": {
   "codemirror_mode": {
    "name": "ipython",
    "version": 3
   },
   "file_extension": ".py",
   "mimetype": "text/x-python",
   "name": "python",
   "nbconvert_exporter": "python",
   "pygments_lexer": "ipython3",
   "version": "3.9.12"
  }
 },
 "nbformat": 4,
 "nbformat_minor": 5
}
